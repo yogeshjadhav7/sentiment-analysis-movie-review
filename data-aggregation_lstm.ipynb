{
 "cells": [
  {
   "cell_type": "code",
   "execution_count": 1,
   "metadata": {},
   "outputs": [],
   "source": [
    "#Import all the dependencies\n",
    "from nltk import RegexpTokenizer\n",
    "from nltk.corpus import stopwords\n",
    "from os import listdir\n",
    "from os.path import isfile, join\n",
    "import numpy as np\n",
    "\n",
    "import pandas as pd\n",
    "\n",
    "PRUNE = False\n",
    "POS_TRAIN_PATH = \"aclImdb/train/pos/\"\n",
    "NEG_TRAIN_PATH = \"aclImdb/train/neg/\"\n",
    "POS_TEST_PATH = \"aclImdb/test/pos/\"\n",
    "NEG_TEST_PATH = \"aclImdb/test/neg/\""
   ]
  },
  {
   "cell_type": "code",
   "execution_count": 2,
   "metadata": {},
   "outputs": [],
   "source": [
    "train_features = []\n",
    "train_labels = []\n",
    "test_features = []\n",
    "test_labels = []"
   ]
  },
  {
   "cell_type": "code",
   "execution_count": 3,
   "metadata": {},
   "outputs": [],
   "source": [
    "filenames = [f for f in listdir(POS_TRAIN_PATH) if f.endswith('.txt')]\n",
    "for filename in filenames:\n",
    "    data = open(POS_TRAIN_PATH + filename).read()\n",
    "    train_features.append(data)\n",
    "    train_labels.append(1)\n",
    "    \n",
    "filenames = [f for f in listdir(NEG_TRAIN_PATH) if f.endswith('.txt')]\n",
    "for filename in filenames:\n",
    "    data = open(NEG_TRAIN_PATH + filename).read()\n",
    "    train_features.append(data)\n",
    "    train_labels.append(0)"
   ]
  },
  {
   "cell_type": "code",
   "execution_count": 4,
   "metadata": {},
   "outputs": [],
   "source": [
    "filenames = [f for f in listdir(POS_TEST_PATH) if f.endswith('.txt')]\n",
    "for filename in filenames:\n",
    "    data = open(POS_TEST_PATH + filename).read()\n",
    "    test_features.append(data)\n",
    "    test_labels.append(1)\n",
    "    \n",
    "filenames = [f for f in listdir(NEG_TEST_PATH) if f.endswith('.txt')]\n",
    "for filename in filenames:\n",
    "    data = open(NEG_TEST_PATH + filename).read()\n",
    "    test_features.append(data)\n",
    "    test_labels.append(0)"
   ]
  },
  {
   "cell_type": "code",
   "execution_count": 5,
   "metadata": {},
   "outputs": [],
   "source": [
    "tokenizer = RegexpTokenizer(r'\\w+')\n",
    "stopword_set = set(stopwords.words('english'))\n",
    "\n",
    "def nlp_clean(data):\n",
    "   new_data = []\n",
    "   for d in data:\n",
    "      new_str = d.lower()\n",
    "      dlist = tokenizer.tokenize(new_str)\n",
    "      dlist = list(set(dlist).difference(stopword_set))\n",
    "      new_data.append(dlist)\n",
    "        \n",
    "   return new_data\n",
    "\n",
    "train_features = nlp_clean(train_features)\n",
    "test_features = nlp_clean(test_features)"
   ]
  },
  {
   "cell_type": "code",
   "execution_count": 6,
   "metadata": {},
   "outputs": [],
   "source": [
    "mean_len = 0\n",
    "bow = []\n",
    "for f in train_features:\n",
    "    mean_len = mean_len + len(f)\n",
    "    bow.extend(f)\n",
    "    \n",
    "for f in test_features:\n",
    "    mean_len = mean_len + len(f)\n",
    "    bow.extend(f)\n",
    "    \n",
    "mean_len = np.int32(mean_len / (len(bow)))\n",
    "bow = np.array(bow)"
   ]
  },
  {
   "cell_type": "code",
   "execution_count": 7,
   "metadata": {},
   "outputs": [],
   "source": [
    "mean_len = np.int16(np.ceil(mean_len / 100) * 100)"
   ]
  },
  {
   "cell_type": "code",
   "execution_count": 8,
   "metadata": {},
   "outputs": [
    {
     "data": {
      "text/plain": [
       "100"
      ]
     },
     "execution_count": 8,
     "metadata": {},
     "output_type": "execute_result"
    }
   ],
   "source": [
    "mean_len"
   ]
  },
  {
   "cell_type": "code",
   "execution_count": 9,
   "metadata": {},
   "outputs": [
    {
     "name": "stdout",
     "output_type": "stream",
     "text": [
      "101791\n"
     ]
    }
   ],
   "source": [
    "from sklearn.preprocessing import LabelEncoder\n",
    "\n",
    "encoder = LabelEncoder()\n",
    "encoder.fit(bow)\n",
    "print(len(encoder.classes_))"
   ]
  },
  {
   "cell_type": "code",
   "execution_count": 10,
   "metadata": {},
   "outputs": [
    {
     "name": "stdout",
     "output_type": "stream",
     "text": [
      "1000\n",
      "2000\n",
      "3000\n",
      "4000\n",
      "5000\n",
      "6000\n",
      "7000\n",
      "8000\n",
      "9000\n",
      "10000\n",
      "11000\n",
      "12000\n",
      "13000\n",
      "14000\n",
      "15000\n",
      "16000\n",
      "17000\n",
      "18000\n",
      "19000\n",
      "20000\n",
      "21000\n",
      "22000\n",
      "23000\n",
      "24000\n",
      "25000\n",
      "1000\n",
      "2000\n",
      "3000\n",
      "4000\n",
      "5000\n",
      "6000\n",
      "7000\n",
      "8000\n",
      "9000\n",
      "10000\n",
      "11000\n",
      "12000\n",
      "13000\n",
      "14000\n",
      "15000\n",
      "16000\n",
      "17000\n",
      "18000\n",
      "19000\n",
      "20000\n",
      "21000\n",
      "22000\n",
      "23000\n",
      "24000\n",
      "25000\n"
     ]
    }
   ],
   "source": [
    "x_train = []\n",
    "x_test = []\n",
    "\n",
    "counter = 0\n",
    "for f in train_features:\n",
    "    r = np.array(f)\n",
    "    r = encoder.transform(r)\n",
    "    x_train.append(r)\n",
    "    counter = counter + 1\n",
    "    if counter % 1000 == 0:\n",
    "        print(counter)\n",
    "        if PRUNE:\n",
    "            break\n",
    "\n",
    "counter = 0\n",
    "for f in test_features:\n",
    "    r = np.array(f)\n",
    "    r = encoder.transform(r)\n",
    "    x_test.append(r)\n",
    "    counter = counter + 1\n",
    "    if counter % 1000 == 0:\n",
    "        print(counter)\n",
    "        if PRUNE:\n",
    "            break\n"
   ]
  },
  {
   "cell_type": "code",
   "execution_count": 11,
   "metadata": {},
   "outputs": [],
   "source": [
    "x_train_copy = x_train.copy()\n",
    "x_test_copy = x_test.copy()"
   ]
  },
  {
   "cell_type": "code",
   "execution_count": 12,
   "metadata": {},
   "outputs": [
    {
     "name": "stderr",
     "output_type": "stream",
     "text": [
      "/Users/yogesh/env/tensorflow/lib/python3.6/site-packages/h5py/__init__.py:36: FutureWarning: Conversion of the second argument of issubdtype from `float` to `np.floating` is deprecated. In future, it will be treated as `np.float64 == np.dtype(float).type`.\n",
      "  from ._conv import register_converters as _register_converters\n",
      "Using TensorFlow backend.\n"
     ]
    },
    {
     "name": "stdout",
     "output_type": "stream",
     "text": [
      "x_train shape: (25000, 100)\n",
      "x_test shape: (25000, 100)\n"
     ]
    }
   ],
   "source": [
    "from keras.preprocessing import sequence\n",
    "\n",
    "x_train = sequence.pad_sequences(x_train_copy, maxlen=mean_len)\n",
    "x_test = sequence.pad_sequences(x_test_copy, maxlen=mean_len)\n",
    "print('x_train shape:', x_train.shape)\n",
    "print('x_test shape:', x_test.shape)"
   ]
  },
  {
   "cell_type": "code",
   "execution_count": 13,
   "metadata": {},
   "outputs": [],
   "source": [
    "columns = [str(x) for x in range(mean_len)]\n",
    "columns.append(\"Sentiment\")"
   ]
  },
  {
   "cell_type": "code",
   "execution_count": 14,
   "metadata": {},
   "outputs": [],
   "source": [
    "train_data = None\n",
    "\n",
    "for idx in range(len(x_train)):\n",
    "    features = x_train[idx]\n",
    "    label = np.array([train_labels[idx]], dtype=np.int16)\n",
    "    row = np.array([np.concatenate((features, label), axis = 0)])\n",
    "    \n",
    "    if train_data is None:\n",
    "        train_data = row\n",
    "    else:\n",
    "        train_data = np.concatenate((train_data, row), axis=0)\n",
    "    "
   ]
  },
  {
   "cell_type": "code",
   "execution_count": 15,
   "metadata": {},
   "outputs": [
    {
     "data": {
      "text/plain": [
       "(25000, 101)"
      ]
     },
     "execution_count": 15,
     "metadata": {},
     "output_type": "execute_result"
    }
   ],
   "source": [
    "np.shape(train_data)"
   ]
  },
  {
   "cell_type": "code",
   "execution_count": 16,
   "metadata": {},
   "outputs": [],
   "source": [
    "test_data = None\n",
    "\n",
    "for idx in range(len(x_test)):\n",
    "    features = x_test[idx]\n",
    "    label = np.array([test_labels[idx]], dtype=np.int16)\n",
    "    row = np.array([np.concatenate((features, label), axis = 0)])\n",
    "    \n",
    "    if test_data is None:\n",
    "        test_data = row\n",
    "    else:\n",
    "        test_data = np.concatenate((test_data, row), axis=0)\n",
    "        "
   ]
  },
  {
   "cell_type": "code",
   "execution_count": 17,
   "metadata": {},
   "outputs": [
    {
     "data": {
      "text/plain": [
       "(25000, 101)"
      ]
     },
     "execution_count": 17,
     "metadata": {},
     "output_type": "execute_result"
    }
   ],
   "source": [
    "np.shape(test_data)"
   ]
  },
  {
   "cell_type": "code",
   "execution_count": 18,
   "metadata": {},
   "outputs": [],
   "source": [
    "train_data = pd.DataFrame(columns=columns, data=train_data)\n",
    "test_data = pd.DataFrame(columns=columns, data=test_data)"
   ]
  },
  {
   "cell_type": "code",
   "execution_count": 19,
   "metadata": {},
   "outputs": [],
   "source": [
    "train_data = train_data.sample(frac=1)\n",
    "test_data = test_data.sample(frac=1)"
   ]
  },
  {
   "cell_type": "code",
   "execution_count": 20,
   "metadata": {},
   "outputs": [
    {
     "data": {
      "text/html": [
       "<div>\n",
       "<style scoped>\n",
       "    .dataframe tbody tr th:only-of-type {\n",
       "        vertical-align: middle;\n",
       "    }\n",
       "\n",
       "    .dataframe tbody tr th {\n",
       "        vertical-align: top;\n",
       "    }\n",
       "\n",
       "    .dataframe thead th {\n",
       "        text-align: right;\n",
       "    }\n",
       "</style>\n",
       "<table border=\"1\" class=\"dataframe\">\n",
       "  <thead>\n",
       "    <tr style=\"text-align: right;\">\n",
       "      <th></th>\n",
       "      <th>0</th>\n",
       "      <th>1</th>\n",
       "      <th>2</th>\n",
       "      <th>3</th>\n",
       "      <th>4</th>\n",
       "      <th>5</th>\n",
       "      <th>6</th>\n",
       "      <th>7</th>\n",
       "      <th>8</th>\n",
       "      <th>9</th>\n",
       "      <th>...</th>\n",
       "      <th>91</th>\n",
       "      <th>92</th>\n",
       "      <th>93</th>\n",
       "      <th>94</th>\n",
       "      <th>95</th>\n",
       "      <th>96</th>\n",
       "      <th>97</th>\n",
       "      <th>98</th>\n",
       "      <th>99</th>\n",
       "      <th>Sentiment</th>\n",
       "    </tr>\n",
       "  </thead>\n",
       "  <tbody>\n",
       "    <tr>\n",
       "      <th>23755</th>\n",
       "      <td>99187</td>\n",
       "      <td>2368</td>\n",
       "      <td>90203</td>\n",
       "      <td>51475</td>\n",
       "      <td>24966</td>\n",
       "      <td>62260</td>\n",
       "      <td>16205</td>\n",
       "      <td>63590</td>\n",
       "      <td>53094</td>\n",
       "      <td>76217</td>\n",
       "      <td>...</td>\n",
       "      <td>68811</td>\n",
       "      <td>14935</td>\n",
       "      <td>55817</td>\n",
       "      <td>79230</td>\n",
       "      <td>42445</td>\n",
       "      <td>61963</td>\n",
       "      <td>68850</td>\n",
       "      <td>76442</td>\n",
       "      <td>6285</td>\n",
       "      <td>0</td>\n",
       "    </tr>\n",
       "    <tr>\n",
       "      <th>2821</th>\n",
       "      <td>33203</td>\n",
       "      <td>64713</td>\n",
       "      <td>28182</td>\n",
       "      <td>7070</td>\n",
       "      <td>24333</td>\n",
       "      <td>64043</td>\n",
       "      <td>85544</td>\n",
       "      <td>86493</td>\n",
       "      <td>26421</td>\n",
       "      <td>21093</td>\n",
       "      <td>...</td>\n",
       "      <td>96864</td>\n",
       "      <td>69006</td>\n",
       "      <td>31851</td>\n",
       "      <td>97929</td>\n",
       "      <td>4235</td>\n",
       "      <td>98062</td>\n",
       "      <td>73259</td>\n",
       "      <td>79230</td>\n",
       "      <td>35573</td>\n",
       "      <td>1</td>\n",
       "    </tr>\n",
       "    <tr>\n",
       "      <th>15403</th>\n",
       "      <td>0</td>\n",
       "      <td>0</td>\n",
       "      <td>0</td>\n",
       "      <td>0</td>\n",
       "      <td>0</td>\n",
       "      <td>0</td>\n",
       "      <td>0</td>\n",
       "      <td>0</td>\n",
       "      <td>0</td>\n",
       "      <td>0</td>\n",
       "      <td>...</td>\n",
       "      <td>79825</td>\n",
       "      <td>74092</td>\n",
       "      <td>56950</td>\n",
       "      <td>47999</td>\n",
       "      <td>1183</td>\n",
       "      <td>85880</td>\n",
       "      <td>40416</td>\n",
       "      <td>20724</td>\n",
       "      <td>40419</td>\n",
       "      <td>0</td>\n",
       "    </tr>\n",
       "    <tr>\n",
       "      <th>13634</th>\n",
       "      <td>48814</td>\n",
       "      <td>76438</td>\n",
       "      <td>11971</td>\n",
       "      <td>13458</td>\n",
       "      <td>90869</td>\n",
       "      <td>16009</td>\n",
       "      <td>29884</td>\n",
       "      <td>35267</td>\n",
       "      <td>26070</td>\n",
       "      <td>81912</td>\n",
       "      <td>...</td>\n",
       "      <td>92543</td>\n",
       "      <td>80160</td>\n",
       "      <td>75957</td>\n",
       "      <td>85808</td>\n",
       "      <td>85880</td>\n",
       "      <td>85125</td>\n",
       "      <td>19165</td>\n",
       "      <td>3730</td>\n",
       "      <td>70162</td>\n",
       "      <td>0</td>\n",
       "    </tr>\n",
       "    <tr>\n",
       "      <th>24040</th>\n",
       "      <td>38407</td>\n",
       "      <td>83075</td>\n",
       "      <td>30942</td>\n",
       "      <td>69630</td>\n",
       "      <td>64068</td>\n",
       "      <td>100154</td>\n",
       "      <td>20913</td>\n",
       "      <td>94802</td>\n",
       "      <td>14091</td>\n",
       "      <td>37770</td>\n",
       "      <td>...</td>\n",
       "      <td>8899</td>\n",
       "      <td>79230</td>\n",
       "      <td>73259</td>\n",
       "      <td>30514</td>\n",
       "      <td>20193</td>\n",
       "      <td>61963</td>\n",
       "      <td>18991</td>\n",
       "      <td>45805</td>\n",
       "      <td>97918</td>\n",
       "      <td>0</td>\n",
       "    </tr>\n",
       "  </tbody>\n",
       "</table>\n",
       "<p>5 rows × 101 columns</p>\n",
       "</div>"
      ],
      "text/plain": [
       "           0      1      2      3      4       5      6      7      8      9  \\\n",
       "23755  99187   2368  90203  51475  24966   62260  16205  63590  53094  76217   \n",
       "2821   33203  64713  28182   7070  24333   64043  85544  86493  26421  21093   \n",
       "15403      0      0      0      0      0       0      0      0      0      0   \n",
       "13634  48814  76438  11971  13458  90869   16009  29884  35267  26070  81912   \n",
       "24040  38407  83075  30942  69630  64068  100154  20913  94802  14091  37770   \n",
       "\n",
       "         ...         91     92     93     94     95     96     97     98  \\\n",
       "23755    ...      68811  14935  55817  79230  42445  61963  68850  76442   \n",
       "2821     ...      96864  69006  31851  97929   4235  98062  73259  79230   \n",
       "15403    ...      79825  74092  56950  47999   1183  85880  40416  20724   \n",
       "13634    ...      92543  80160  75957  85808  85880  85125  19165   3730   \n",
       "24040    ...       8899  79230  73259  30514  20193  61963  18991  45805   \n",
       "\n",
       "          99  Sentiment  \n",
       "23755   6285          0  \n",
       "2821   35573          1  \n",
       "15403  40419          0  \n",
       "13634  70162          0  \n",
       "24040  97918          0  \n",
       "\n",
       "[5 rows x 101 columns]"
      ]
     },
     "execution_count": 20,
     "metadata": {},
     "output_type": "execute_result"
    }
   ],
   "source": [
    "train_data.head()"
   ]
  },
  {
   "cell_type": "code",
   "execution_count": 21,
   "metadata": {},
   "outputs": [
    {
     "name": "stdout",
     "output_type": "stream",
     "text": [
      "<class 'pandas.core.frame.DataFrame'>\n",
      "Int64Index: 25000 entries, 23755 to 7728\n",
      "Columns: 101 entries, 0 to Sentiment\n",
      "dtypes: int32(101)\n",
      "memory usage: 9.8 MB\n"
     ]
    }
   ],
   "source": [
    "train_data.info()"
   ]
  },
  {
   "cell_type": "code",
   "execution_count": 22,
   "metadata": {},
   "outputs": [
    {
     "data": {
      "text/html": [
       "<div>\n",
       "<style scoped>\n",
       "    .dataframe tbody tr th:only-of-type {\n",
       "        vertical-align: middle;\n",
       "    }\n",
       "\n",
       "    .dataframe tbody tr th {\n",
       "        vertical-align: top;\n",
       "    }\n",
       "\n",
       "    .dataframe thead th {\n",
       "        text-align: right;\n",
       "    }\n",
       "</style>\n",
       "<table border=\"1\" class=\"dataframe\">\n",
       "  <thead>\n",
       "    <tr style=\"text-align: right;\">\n",
       "      <th></th>\n",
       "      <th>0</th>\n",
       "      <th>1</th>\n",
       "      <th>2</th>\n",
       "      <th>3</th>\n",
       "      <th>4</th>\n",
       "      <th>5</th>\n",
       "      <th>6</th>\n",
       "      <th>7</th>\n",
       "      <th>8</th>\n",
       "      <th>9</th>\n",
       "      <th>...</th>\n",
       "      <th>91</th>\n",
       "      <th>92</th>\n",
       "      <th>93</th>\n",
       "      <th>94</th>\n",
       "      <th>95</th>\n",
       "      <th>96</th>\n",
       "      <th>97</th>\n",
       "      <th>98</th>\n",
       "      <th>99</th>\n",
       "      <th>Sentiment</th>\n",
       "    </tr>\n",
       "  </thead>\n",
       "  <tbody>\n",
       "    <tr>\n",
       "      <th>23998</th>\n",
       "      <td>0</td>\n",
       "      <td>0</td>\n",
       "      <td>0</td>\n",
       "      <td>0</td>\n",
       "      <td>0</td>\n",
       "      <td>0</td>\n",
       "      <td>0</td>\n",
       "      <td>0</td>\n",
       "      <td>0</td>\n",
       "      <td>0</td>\n",
       "      <td>...</td>\n",
       "      <td>100025</td>\n",
       "      <td>8964</td>\n",
       "      <td>32398</td>\n",
       "      <td>53540</td>\n",
       "      <td>79686</td>\n",
       "      <td>60609</td>\n",
       "      <td>37182</td>\n",
       "      <td>49600</td>\n",
       "      <td>31491</td>\n",
       "      <td>0</td>\n",
       "    </tr>\n",
       "    <tr>\n",
       "      <th>5742</th>\n",
       "      <td>0</td>\n",
       "      <td>0</td>\n",
       "      <td>0</td>\n",
       "      <td>0</td>\n",
       "      <td>0</td>\n",
       "      <td>39969</td>\n",
       "      <td>71564</td>\n",
       "      <td>28984</td>\n",
       "      <td>1317</td>\n",
       "      <td>28653</td>\n",
       "      <td>...</td>\n",
       "      <td>31775</td>\n",
       "      <td>17864</td>\n",
       "      <td>79693</td>\n",
       "      <td>37716</td>\n",
       "      <td>96071</td>\n",
       "      <td>33358</td>\n",
       "      <td>5215</td>\n",
       "      <td>56950</td>\n",
       "      <td>98226</td>\n",
       "      <td>1</td>\n",
       "    </tr>\n",
       "    <tr>\n",
       "      <th>215</th>\n",
       "      <td>33203</td>\n",
       "      <td>73295</td>\n",
       "      <td>45741</td>\n",
       "      <td>40901</td>\n",
       "      <td>24333</td>\n",
       "      <td>49592</td>\n",
       "      <td>22821</td>\n",
       "      <td>19556</td>\n",
       "      <td>7360</td>\n",
       "      <td>30900</td>\n",
       "      <td>...</td>\n",
       "      <td>18835</td>\n",
       "      <td>1318</td>\n",
       "      <td>992</td>\n",
       "      <td>76239</td>\n",
       "      <td>85880</td>\n",
       "      <td>18790</td>\n",
       "      <td>31024</td>\n",
       "      <td>96036</td>\n",
       "      <td>6940</td>\n",
       "      <td>1</td>\n",
       "    </tr>\n",
       "    <tr>\n",
       "      <th>744</th>\n",
       "      <td>33203</td>\n",
       "      <td>57395</td>\n",
       "      <td>100745</td>\n",
       "      <td>53532</td>\n",
       "      <td>85914</td>\n",
       "      <td>25041</td>\n",
       "      <td>92199</td>\n",
       "      <td>18712</td>\n",
       "      <td>63679</td>\n",
       "      <td>78424</td>\n",
       "      <td>...</td>\n",
       "      <td>84150</td>\n",
       "      <td>71781</td>\n",
       "      <td>7972</td>\n",
       "      <td>15360</td>\n",
       "      <td>44303</td>\n",
       "      <td>55006</td>\n",
       "      <td>53540</td>\n",
       "      <td>85880</td>\n",
       "      <td>58</td>\n",
       "      <td>1</td>\n",
       "    </tr>\n",
       "    <tr>\n",
       "      <th>23793</th>\n",
       "      <td>98112</td>\n",
       "      <td>22958</td>\n",
       "      <td>14091</td>\n",
       "      <td>60192</td>\n",
       "      <td>82544</td>\n",
       "      <td>42867</td>\n",
       "      <td>62002</td>\n",
       "      <td>68726</td>\n",
       "      <td>30441</td>\n",
       "      <td>66207</td>\n",
       "      <td>...</td>\n",
       "      <td>96071</td>\n",
       "      <td>39503</td>\n",
       "      <td>55006</td>\n",
       "      <td>99839</td>\n",
       "      <td>36245</td>\n",
       "      <td>85880</td>\n",
       "      <td>63518</td>\n",
       "      <td>3239</td>\n",
       "      <td>54646</td>\n",
       "      <td>0</td>\n",
       "    </tr>\n",
       "  </tbody>\n",
       "</table>\n",
       "<p>5 rows × 101 columns</p>\n",
       "</div>"
      ],
      "text/plain": [
       "           0      1       2      3      4      5      6      7      8      9  \\\n",
       "23998      0      0       0      0      0      0      0      0      0      0   \n",
       "5742       0      0       0      0      0  39969  71564  28984   1317  28653   \n",
       "215    33203  73295   45741  40901  24333  49592  22821  19556   7360  30900   \n",
       "744    33203  57395  100745  53532  85914  25041  92199  18712  63679  78424   \n",
       "23793  98112  22958   14091  60192  82544  42867  62002  68726  30441  66207   \n",
       "\n",
       "         ...          91     92     93     94     95     96     97     98  \\\n",
       "23998    ...      100025   8964  32398  53540  79686  60609  37182  49600   \n",
       "5742     ...       31775  17864  79693  37716  96071  33358   5215  56950   \n",
       "215      ...       18835   1318    992  76239  85880  18790  31024  96036   \n",
       "744      ...       84150  71781   7972  15360  44303  55006  53540  85880   \n",
       "23793    ...       96071  39503  55006  99839  36245  85880  63518   3239   \n",
       "\n",
       "          99  Sentiment  \n",
       "23998  31491          0  \n",
       "5742   98226          1  \n",
       "215     6940          1  \n",
       "744       58          1  \n",
       "23793  54646          0  \n",
       "\n",
       "[5 rows x 101 columns]"
      ]
     },
     "execution_count": 22,
     "metadata": {},
     "output_type": "execute_result"
    }
   ],
   "source": [
    "test_data.head()"
   ]
  },
  {
   "cell_type": "code",
   "execution_count": 23,
   "metadata": {},
   "outputs": [
    {
     "name": "stdout",
     "output_type": "stream",
     "text": [
      "<class 'pandas.core.frame.DataFrame'>\n",
      "Int64Index: 25000 entries, 23998 to 17097\n",
      "Columns: 101 entries, 0 to Sentiment\n",
      "dtypes: int32(101)\n",
      "memory usage: 9.8 MB\n"
     ]
    }
   ],
   "source": [
    "test_data.info()"
   ]
  },
  {
   "cell_type": "code",
   "execution_count": 24,
   "metadata": {},
   "outputs": [],
   "source": [
    "train_data.to_csv(\"train_data_lstm.csv\", index=False)\n",
    "test_data.to_csv(\"test_data_lstm.csv\", index=False)"
   ]
  },
  {
   "cell_type": "code",
   "execution_count": null,
   "metadata": {},
   "outputs": [],
   "source": []
  }
 ],
 "metadata": {
  "kernelspec": {
   "display_name": "Python 3",
   "language": "python",
   "name": "python3"
  },
  "language_info": {
   "codemirror_mode": {
    "name": "ipython",
    "version": 3
   },
   "file_extension": ".py",
   "mimetype": "text/x-python",
   "name": "python",
   "nbconvert_exporter": "python",
   "pygments_lexer": "ipython3",
   "version": "3.6.3"
  }
 },
 "nbformat": 4,
 "nbformat_minor": 2
}
